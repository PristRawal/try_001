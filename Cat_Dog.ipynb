{
 "cells": [
  {
   "cell_type": "code",
   "execution_count": 1,
   "metadata": {},
   "outputs": [],
   "source": [
    "import numpy as np\n",
    "import matplotlib.pyplot as plt\n",
    "import torch\n",
    "import torch.nn as nn\n",
    "import torch.nn.functional as F\n",
    "import glob\n",
    "import os\n",
    "from torch.utils.data import DataLoader , ConcatDataset\n",
    "from torchvision import datasets, transforms\n",
    "import cv2\n",
    "import sys\n",
    "import math\n",
    "import random\n",
    "from sklearn.metrics import accuracy_score, precision_score, recall_score, f1_score, confusion_matrix\n",
    "import cv2\n",
    "import glob\n",
    "import numpy as np\n",
    "import torch\n",
    "from torch.utils.data import Dataset\n",
    "from torchvision import transforms"
   ]
  },
  {
   "cell_type": "code",
   "execution_count": 2,
   "metadata": {},
   "outputs": [],
   "source": [
    "import cv2\n",
    "import glob\n",
    "\n",
    "cat = []\n",
    "dog = []\n",
    "\n",
    "def process_images(folder_path, label_list, batch_size=100):\n",
    "    batch = []\n",
    "    for f in glob.iglob(folder_path):\n",
    "        img = cv2.imread(f)\n",
    "        if img is not None:\n",
    "            img = cv2.resize(img, (128,128))\n",
    "            b, g, r = cv2.split(img)\n",
    "            img = cv2.merge([r, g, b])\n",
    "            batch.append(img)\n",
    "            if len(batch) == batch_size:\n",
    "                label_list.extend(batch)\n",
    "                batch = []\n",
    "    # Add remaining images in the batch\n",
    "    if batch:\n",
    "        label_list.extend(batch)\n",
    "\n",
    "# Process Cats\n",
    "process_images(\"C:/Users/ACER/Desktop/Final Year Projects/Vs_code/Jupyter notebook/PetImages/Training/Cat/*.jpg\", cat)\n",
    "\n",
    "# Process Dogs\n",
    "process_images(\"C:/Users/ACER/Desktop/Final Year Projects/Vs_code/Jupyter notebook/practice_imgs/Dog/*.jpg\", dog)\n"
   ]
  },
  {
   "cell_type": "markdown",
   "metadata": {},
   "source": [
    "True code for large size images"
   ]
  },
  {
   "cell_type": "code",
   "execution_count": 3,
   "metadata": {},
   "outputs": [],
   "source": [
    "cat=[]\n",
    "dog=[]\n",
    "batch_1=[]\n",
    "batch_2=[]\n",
    "\n",
    "for f in glob.iglob(\"C:/Users/ACER/Desktop/Final Year Projects/Vs_code/Jupyter notebook/PetImages/Training/Cat/*.jpg\"):\n",
    "    img=cv2.imread(f)\n",
    "    if img is not None:\n",
    "        img=cv2.resize(img,(128,128))\n",
    "        b,g,r=cv2.split(img)\n",
    "        img=cv2.merge([r,g,b])\n",
    "        batch_1.append(img)\n",
    "\n",
    "        if len(batch_1) == 100:\n",
    "            cat.extend(batch_1)\n",
    "            batch_1 = []\n",
    "if batch_1:\n",
    "    cat.extend(batch_1)\n",
    "\n",
    "\n",
    "for f in glob.iglob(\"C:/Users/ACER/Desktop/Final Year Projects/Vs_code/Jupyter notebook/practice_imgs/Dog/*.jpg\"):\n",
    "    img=cv2.imread(f)\n",
    "    if img is not None:\n",
    "        img=cv2.resize(img,(128,128))\n",
    "        b,g,r=cv2.split(img)\n",
    "        img=cv2.merge([r,g,b])\n",
    "        batch_2.append(img)\n",
    "\n",
    "        if len(batch_2) == 100:\n",
    "            dog.extend(batch_2)\n",
    "            batch_2 = []\n",
    "if batch_2:\n",
    "    dog.extend(batch_2)\n",
    "    \n"
   ]
  },
  {
   "cell_type": "code",
   "execution_count": 4,
   "metadata": {},
   "outputs": [],
   "source": [
    "cat=np.array(cat,dtype=np.float32)"
   ]
  },
  {
   "cell_type": "code",
   "execution_count": 5,
   "metadata": {},
   "outputs": [
    {
     "data": {
      "text/plain": [
       "(6794, 128, 128, 3)"
      ]
     },
     "execution_count": 5,
     "metadata": {},
     "output_type": "execute_result"
    }
   ],
   "source": [
    "cat.shape"
   ]
  },
  {
   "cell_type": "code",
   "execution_count": 6,
   "metadata": {},
   "outputs": [],
   "source": [
    "transform = transforms.Compose([\n",
    "    transforms.RandomResizedCrop(128),\n",
    "    transforms.RandomHorizontalFlip(),\n",
    "    transforms.ToTensor(),\n",
    "    transforms.Normalize(mean=[0.485, 0.456, 0.406], std=[0.229, 0.224, 0.225]),\n",
    "])"
   ]
  },
  {
   "cell_type": "code",
   "execution_count": 7,
   "metadata": {},
   "outputs": [],
   "source": [
    "class Dataset(object):\n",
    "\n",
    "  def __getitem__(self, index):\n",
    "    raise NotImplementedError\n",
    "\n",
    "  def __len__(self):\n",
    "    raise NotImplementedError\n",
    "\n",
    "  def __add__(self, other):\n",
    "    return ConcatDataset([self, other])"
   ]
  },
  {
   "cell_type": "code",
   "execution_count": 8,
   "metadata": {},
   "outputs": [],
   "source": [
    "class Cat_Dog(Dataset):\n",
    "    def __init__(self, transform=None):\n",
    "        self.transform = transform\n",
    "\n",
    "        cat = []\n",
    "        dog = []\n",
    "        batch_1=[]\n",
    "        batch_2=[]\n",
    "\n",
    "        # Load and preprocess images\n",
    "        for f in glob.iglob(\"C:/Users/ACER/Desktop/Final Year Projects/Vs_code/Jupyter notebook/PetImages/Training/Cat/*.jpg\"):\n",
    "            img = cv2.imread(f)\n",
    "            if img is not None:\n",
    "                img = cv2.resize(img, (128, 128))\n",
    "                b, g, r = cv2.split(img)\n",
    "                img = cv2.merge([r, g, b])\n",
    "                img = img.transpose((2, 0, 1))      # Convert to (C, H, W)            \n",
    "                batch_1.append(img)\n",
    "\n",
    "                if len(batch_1) == 100:\n",
    "                    cat.extend(batch_1)\n",
    "                    batch_1 = []\n",
    "        if batch_1:\n",
    "            cat.extend(batch_1)\n",
    "              \n",
    "            \n",
    "\n",
    "        for f in glob.iglob(\"C:/Users/ACER/Desktop/Final Year Projects/Vs_code/Jupyter notebook/practice_imgs/Dog/*.jpg\"):\n",
    "            img = cv2.imread(f)\n",
    "            if img is not None:\n",
    "                img = cv2.resize(img, (128, 128))\n",
    "                b, g, r = cv2.split(img)\n",
    "                img = cv2.merge([r, g, b])\n",
    "                img = img.transpose((2, 0, 1))  # Convert to (C, H, W)\n",
    "                batch_2.append(img)\n",
    "\n",
    "                if len(batch_2) == 100:\n",
    "                    dog.extend(batch_2)\n",
    "                    batch_2 = []\n",
    "        if batch_2:\n",
    "            dog.extend(batch_2)\n",
    "            \n",
    "\n",
    "\n",
    "        # Concatenate and create labels\n",
    "        cat = np.array(cat, dtype=np.float32)\n",
    "        dog = np.array(dog, dtype=np.float32)\n",
    "\n",
    "        cat_label = np.ones(cat.shape[0], dtype=np.float32)\n",
    "        dog_label = np.zeros(dog.shape[0], dtype=np.float32)\n",
    "\n",
    "        self.images = np.concatenate((cat, dog), axis=0)\n",
    "        self.labels = np.concatenate((cat_label, dog_label))\n",
    "\n",
    "        # Normalize images\n",
    "        self.images /= 255.0\n",
    "\n",
    "    def __len__(self):\n",
    "        return len(self.images)\n",
    "\n",
    "    def __getitem__(self, index):\n",
    "        image = torch.tensor(self.images[index], dtype=torch.float32)\n",
    "        label = torch.tensor(self.labels[index], dtype=torch.float32)\n",
    "\n",
    "        if self.transform:\n",
    "            image = self.transform(image)\n",
    "\n",
    "        sample = {'image': image, 'label': label}\n",
    "        return sample\n",
    "\n",
    "    def normalize(self):\n",
    "      self.images = self.images/255.0\n"
   ]
  },
  {
   "cell_type": "code",
   "execution_count": 9,
   "metadata": {},
   "outputs": [],
   "source": [
    "import torch.nn as nn\n",
    "import torch.nn.functional as F\n",
    "\n",
    "class CNN(nn.Module):\n",
    "    def __init__(self):\n",
    "        super(CNN,self).__init__()\n",
    "        self.cnn_model = nn.Sequential(\n",
    "        nn.Conv2d(in_channels=3, out_channels=6, kernel_size=5),\n",
    "        nn.Tanh(),\n",
    "        nn.AvgPool2d(kernel_size=2, stride=5),\n",
    "        nn.Conv2d(in_channels=6, out_channels=16, kernel_size=5),\n",
    "        nn.Tanh(),\n",
    "        nn.AvgPool2d(kernel_size=2, stride=5))\n",
    "\n",
    "        self.fc_model = nn.Sequential(\n",
    "        nn.Linear(in_features=256, out_features=120),\n",
    "        nn.Tanh(),\n",
    "        nn.Linear(in_features=120, out_features=84),\n",
    "        nn.Tanh(),\n",
    "        nn.Linear(in_features=84, out_features=1))\n",
    "\n",
    "    def forward(self, x):\n",
    "        x = self.cnn_model(x)\n",
    "        x = x.view(x.size(0), -1)\n",
    "        x = self.fc_model(x)\n",
    "        x = F.sigmoid(x)\n",
    "\n",
    "        return x"
   ]
  },
  {
   "cell_type": "code",
   "execution_count": 10,
   "metadata": {},
   "outputs": [],
   "source": [
    "cat_dataset = Cat_Dog()\n",
    "cat_dataset.normalize()\n",
    "device = torch.device('cuda:0')\n",
    "model = CNN().to(device)\n"
   ]
  },
  {
   "cell_type": "code",
   "execution_count": 11,
   "metadata": {},
   "outputs": [],
   "source": [
    "names={0:'Cat', 1:'Dog'}\n",
    "dataloader = DataLoader(cat_dataset, batch_size=32, shuffle=False)"
   ]
  },
  {
   "cell_type": "code",
   "execution_count": 12,
   "metadata": {},
   "outputs": [],
   "source": [
    "model.eval()\n",
    "outputs = []\n",
    "y_true = []\n",
    "with torch.no_grad():\n",
    "    for D in dataloader:\n",
    "        image = D['image'].to(device)\n",
    "        label = D['label'].to(device)\n",
    "\n",
    "        y_hat = model(image)\n",
    "\n",
    "        outputs.append(y_hat.cpu().detach().numpy())\n",
    "        y_true.append(label.cpu().detach().numpy())\n"
   ]
  },
  {
   "cell_type": "code",
   "execution_count": 13,
   "metadata": {},
   "outputs": [],
   "source": [
    "outputs = np.concatenate( outputs, axis=0 ).squeeze()\n",
    "y_true = np.concatenate( y_true, axis=0 ).squeeze()"
   ]
  },
  {
   "cell_type": "code",
   "execution_count": 14,
   "metadata": {},
   "outputs": [],
   "source": [
    "def threshold(scores,threshold=0.50, minimum=0, maximum = 1.0):\n",
    "    x = np.array(list(scores))\n",
    "    x[x >= threshold] = maximum\n",
    "    x[x < threshold] = minimum\n",
    "    return x"
   ]
  },
  {
   "cell_type": "code",
   "execution_count": 15,
   "metadata": {},
   "outputs": [
    {
     "data": {
      "text/plain": [
       "0.9963337732805396"
      ]
     },
     "execution_count": 15,
     "metadata": {},
     "output_type": "execute_result"
    }
   ],
   "source": [
    "accuracy_score(y_true, threshold(outputs))"
   ]
  },
  {
   "cell_type": "code",
   "execution_count": 16,
   "metadata": {},
   "outputs": [
    {
     "data": {
      "text/plain": [
       "CNN(\n",
       "  (cnn_model): Sequential(\n",
       "    (0): Conv2d(3, 6, kernel_size=(5, 5), stride=(1, 1))\n",
       "    (1): Tanh()\n",
       "    (2): AvgPool2d(kernel_size=2, stride=5, padding=0)\n",
       "    (3): Conv2d(6, 16, kernel_size=(5, 5), stride=(1, 1))\n",
       "    (4): Tanh()\n",
       "    (5): AvgPool2d(kernel_size=2, stride=5, padding=0)\n",
       "  )\n",
       "  (fc_model): Sequential(\n",
       "    (0): Linear(in_features=256, out_features=120, bias=True)\n",
       "    (1): Tanh()\n",
       "    (2): Linear(in_features=120, out_features=84, bias=True)\n",
       "    (3): Tanh()\n",
       "    (4): Linear(in_features=84, out_features=1, bias=True)\n",
       "  )\n",
       ")"
      ]
     },
     "execution_count": 16,
     "metadata": {},
     "output_type": "execute_result"
    }
   ],
   "source": [
    "eta = 0.0001\n",
    "EPOCH = 500\n",
    "optimizer = torch.optim.Adam(model.parameters(), lr=eta)\n",
    "dataloader = DataLoader(cat_dataset, batch_size=32, shuffle=True)\n",
    "model.train()"
   ]
  },
  {
   "cell_type": "code",
   "execution_count": 17,
   "metadata": {},
   "outputs": [
    {
     "name": "stdout",
     "output_type": "stream",
     "text": [
      "Train Epoch: 10\tLoss: 0.024239\n",
      "Train Epoch: 20\tLoss: 0.024218\n",
      "Train Epoch: 30\tLoss: 0.024205\n",
      "Train Epoch: 40\tLoss: 0.024202\n",
      "Train Epoch: 50\tLoss: 0.024212\n",
      "Train Epoch: 60\tLoss: 0.024222\n",
      "Train Epoch: 70\tLoss: 0.024167\n",
      "Train Epoch: 80\tLoss: 0.024164\n",
      "Train Epoch: 90\tLoss: 0.024174\n",
      "Train Epoch: 100\tLoss: 0.024164\n",
      "Train Epoch: 110\tLoss: 0.024169\n",
      "Train Epoch: 120\tLoss: 0.024183\n",
      "Train Epoch: 130\tLoss: 0.024183\n",
      "Train Epoch: 140\tLoss: 0.024175\n",
      "Train Epoch: 150\tLoss: 0.024180\n",
      "Train Epoch: 160\tLoss: 0.024181\n",
      "Train Epoch: 170\tLoss: 0.024173\n",
      "Train Epoch: 180\tLoss: 0.024183\n",
      "Train Epoch: 190\tLoss: 0.024168\n",
      "Train Epoch: 200\tLoss: 0.024154\n",
      "Train Epoch: 210\tLoss: 0.024168\n",
      "Train Epoch: 220\tLoss: 0.024173\n",
      "Train Epoch: 230\tLoss: 0.024167\n",
      "Train Epoch: 240\tLoss: 0.024189\n",
      "Train Epoch: 250\tLoss: 0.024166\n",
      "Train Epoch: 260\tLoss: 0.024155\n",
      "Train Epoch: 270\tLoss: 0.024168\n",
      "Train Epoch: 280\tLoss: 0.024171\n",
      "Train Epoch: 290\tLoss: 0.024153\n",
      "Train Epoch: 300\tLoss: 0.024159\n",
      "Train Epoch: 310\tLoss: 0.024164\n",
      "Train Epoch: 320\tLoss: 0.024173\n",
      "Train Epoch: 330\tLoss: 0.024170\n",
      "Train Epoch: 340\tLoss: 0.024163\n",
      "Train Epoch: 350\tLoss: 0.024175\n",
      "Train Epoch: 360\tLoss: 0.024161\n",
      "Train Epoch: 370\tLoss: 0.024169\n",
      "Train Epoch: 380\tLoss: 0.024166\n",
      "Train Epoch: 390\tLoss: 0.024157\n",
      "Train Epoch: 400\tLoss: 0.024161\n",
      "Train Epoch: 410\tLoss: 0.024177\n",
      "Train Epoch: 420\tLoss: 0.024166\n",
      "Train Epoch: 430\tLoss: 0.024173\n",
      "Train Epoch: 440\tLoss: 0.024163\n",
      "Train Epoch: 450\tLoss: 0.024162\n",
      "Train Epoch: 460\tLoss: 0.024191\n",
      "Train Epoch: 470\tLoss: 0.024173\n",
      "Train Epoch: 480\tLoss: 0.024168\n",
      "Train Epoch: 490\tLoss: 0.024183\n",
      "Train Epoch: 500\tLoss: 0.024161\n"
     ]
    }
   ],
   "source": [
    "for epoch in range(1, EPOCH):\n",
    "    losses = []\n",
    "    for D in dataloader:\n",
    "        optimizer.zero_grad()\n",
    "        data = D['image'].to(device)\n",
    "        label = D['label'].to(device)\n",
    "        y_hat = model(data)\n",
    "        # define loss function\n",
    "        error = nn.BCELoss()\n",
    "        loss = torch.sum(error(y_hat.squeeze(), label))\n",
    "        loss.backward()\n",
    "        optimizer.step()\n",
    "        losses.append(loss.item())\n",
    "    if (epoch+1) % 10 == 0:\n",
    "        print('Train Epoch: {}\\tLoss: {:.6f}'.format(epoch+1, np.mean(losses)))"
   ]
  },
  {
   "cell_type": "code",
   "execution_count": 20,
   "metadata": {},
   "outputs": [],
   "source": [
    "model.eval()\n",
    "\n",
    "dataloader = DataLoader(cat_dataset, batch_size=32, shuffle=False)\n",
    "outputs=[]\n",
    "y_true = []\n",
    "with torch.no_grad():\n",
    "    for D in dataloader:\n",
    "        image =  D['image'].to(device)\n",
    "        label = D['label'].to(device)\n",
    "\n",
    "        y_hat = model(image)\n",
    "\n",
    "        outputs.append(y_hat.cpu().detach().numpy())\n",
    "        y_true.append(label.cpu().detach().numpy())\n",
    "\n",
    "outputs = np.concatenate( outputs, axis=0 )\n",
    "y_true = np.concatenate( y_true, axis=0 )"
   ]
  },
  {
   "cell_type": "code",
   "execution_count": 21,
   "metadata": {},
   "outputs": [
    {
     "data": {
      "text/plain": [
       "0.9963337732805396"
      ]
     },
     "execution_count": 21,
     "metadata": {},
     "output_type": "execute_result"
    }
   ],
   "source": [
    "accuracy_score(y_true, threshold(outputs))"
   ]
  },
  {
   "cell_type": "code",
   "execution_count": 22,
   "metadata": {},
   "outputs": [],
   "source": [
    "class Test_data(Dataset):\n",
    "    def __init__(self, transform=None):\n",
    "        self.transform = transform\n",
    "\n",
    "        cat = []\n",
    "        dog = []\n",
    "        batch_1=[]\n",
    "        batch_2=[]\n",
    "\n",
    "        # Load and preprocess images\n",
    "        for f in glob.iglob(\"C:/Users/ACER/Desktop/Final Year Projects/Vs_code/Jupyter notebook/PetImages/Test/Cat/*.jpg\"):\n",
    "            img = cv2.imread(f)\n",
    "            if img is not None:\n",
    "                img = cv2.resize(img, (128, 128))\n",
    "                b, g, r = cv2.split(img)\n",
    "                img = cv2.merge([r, g, b])\n",
    "                img = img.transpose((2, 0, 1))      # Convert to (C, H, W)            \n",
    "                batch_1.append(img)\n",
    "\n",
    "                if len(batch_1) == 100:\n",
    "                    cat.extend(batch_1)\n",
    "                    batch_1 = []\n",
    "        if batch_1:\n",
    "            cat.extend(batch_1)\n",
    "              \n",
    "            \n",
    "\n",
    "        for f in glob.iglob(\"C:/Users/ACER/Desktop/Final Year Projects/Vs_code/Jupyter notebook/PetImages/Test/Dog/*.jpg\"):\n",
    "            img = cv2.imread(f)\n",
    "            if img is not None:\n",
    "                img = cv2.resize(img, (128, 128))\n",
    "                b, g, r = cv2.split(img)\n",
    "                img = cv2.merge([r, g, b])\n",
    "                img = img.transpose((2, 0, 1))  # Convert to (C, H, W)\n",
    "                batch_2.append(img)\n",
    "\n",
    "                if len(batch_2) == 100:\n",
    "                    dog.extend(batch_2)\n",
    "                    batch_2 = []\n",
    "        if batch_2:\n",
    "            dog.extend(batch_2)\n",
    "            \n",
    "\n",
    "\n",
    "        # Concatenate and create labels\n",
    "        cat = np.array(cat, dtype=np.float32)\n",
    "        dog = np.array(dog, dtype=np.float32)\n",
    "\n",
    "        cat_label = np.ones(cat.shape[0], dtype=np.float32)\n",
    "        dog_label = np.zeros(dog.shape[0], dtype=np.float32)\n",
    "\n",
    "        self.images = np.concatenate((cat, dog), axis=0)\n",
    "        self.labels = np.concatenate((cat_label, dog_label))\n",
    "\n",
    "        # Normalize images\n",
    "        self.images /= 255.0\n",
    "\n",
    "    def __len__(self):\n",
    "        return len(self.images)\n",
    "\n",
    "    def __getitem__(self, index):\n",
    "        image = torch.tensor(self.images[index], dtype=torch.float32)\n",
    "        label = torch.tensor(self.labels[index], dtype=torch.float32)\n",
    "\n",
    "        if self.transform:\n",
    "            image = self.transform(image)\n",
    "\n",
    "        sample = {'image': image, 'label': label}\n",
    "        return sample\n",
    "\n",
    "    def normalize(self):\n",
    "      self.images = self.images/255.0\n"
   ]
  },
  {
   "cell_type": "code",
   "execution_count": 23,
   "metadata": {},
   "outputs": [],
   "source": [
    "test_cat=Test_data()"
   ]
  },
  {
   "cell_type": "code",
   "execution_count": 24,
   "metadata": {},
   "outputs": [],
   "source": [
    "model.eval()\n",
    "\n",
    "dataloader = DataLoader(test_cat, batch_size=32, shuffle=False)\n",
    "outputs=[]\n",
    "y_true = []\n",
    "with torch.no_grad():\n",
    "    for D in dataloader:\n",
    "        image =  D['image'].to(device)\n",
    "        label = D['label'].to(device)\n",
    "\n",
    "        y_hat = model(image)\n",
    "\n",
    "        outputs.append(y_hat.cpu().detach().numpy())\n",
    "        y_true.append(label.cpu().detach().numpy())\n",
    "\n",
    "outputs = np.concatenate( outputs, axis=0 )\n",
    "y_true = np.concatenate( y_true, axis=0 )"
   ]
  },
  {
   "cell_type": "code",
   "execution_count": 25,
   "metadata": {},
   "outputs": [
    {
     "data": {
      "text/plain": [
       "0.6915322580645161"
      ]
     },
     "execution_count": 25,
     "metadata": {},
     "output_type": "execute_result"
    }
   ],
   "source": [
    "accuracy_score(y_true, threshold(outputs))\n"
   ]
  },
  {
   "cell_type": "code",
   "execution_count": null,
   "metadata": {},
   "outputs": [],
   "source": []
  }
 ],
 "metadata": {
  "kernelspec": {
   "display_name": "Python 3",
   "language": "python",
   "name": "python3"
  },
  "language_info": {
   "codemirror_mode": {
    "name": "ipython",
    "version": 3
   },
   "file_extension": ".py",
   "mimetype": "text/x-python",
   "name": "python",
   "nbconvert_exporter": "python",
   "pygments_lexer": "ipython3",
   "version": "3.12.2"
  }
 },
 "nbformat": 4,
 "nbformat_minor": 2
}
