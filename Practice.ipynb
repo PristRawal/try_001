{
 "cells": [
  {
   "cell_type": "code",
   "execution_count": null,
   "id": "e7d407fc-fc22-4f0c-a118-933c05380219",
   "metadata": {},
   "outputs": [],
   "source": [
    "import numpy as np\n",
    "import matplotlib.pyplot as plt\n",
    "import torch\n",
    "import torch.nn as nn\n",
    "import torch.nn.functional as F\n",
    "import glob\n",
    "import os\n",
    "from torch.utils.data import DataLoader , ConcatDataset\n",
    "from torchvision import datasets, transforms\n",
    "import cv2\n",
    "import sys\n",
    "import math\n",
    "import random\n",
    "from sklearn.metrics import accuracy_score, precision_score, recall_score, f1_score, confusion_matrix"
   ]
  },
  {
   "cell_type": "code",
   "execution_count": null,
   "id": "6373baff",
   "metadata": {},
   "outputs": [],
   "source": [
    "transform = transforms.Compose([\n",
    "    transforms.RandomResizedCrop(128),\n",
    "    transforms.ToTensor(),\n",
    "    transforms.Normalize(mean=[0.2482, 0.2485, 0.2486], std=[0.2164, 0.2165, 0.2168]),\n",
    "])"
   ]
  },
  {
   "cell_type": "code",
   "execution_count": null,
   "id": "d80dc0b8",
   "metadata": {},
   "outputs": [],
   "source": [
    "tumor = []\n",
    "healthy = []\n",
    "for f in glob.iglob(\"C:/Users/ACER/Desktop/Final Year Projects/Vs_code/Jupyter notebook/Tumor data set/brain_tumor_dataset/no/*.jpg\"):\n",
    "    img = cv2.imread(f)\n",
    "    img = cv2.resize(img,(128,128))\n",
    "    b, g, r = cv2.split(img)\n",
    "    img = cv2.merge([r,g,b])\n",
    "    tumor.append(img)\n",
    "\n",
    "for f in glob.iglob(\"C:/Users/ACER/Desktop/Final Year Projects/Vs_code/Jupyter notebook/Tumor data set/brain_tumor_dataset/yes/*.jpg\"):\n",
    "    img = cv2.imread(f)\n",
    "    img = cv2.resize(img,(128,128))\n",
    "    b, g, r = cv2.split(img)\n",
    "    img = cv2.merge([r,g,b])\n",
    "    healthy.append(img)"
   ]
  },
  {
   "cell_type": "code",
   "execution_count": 9,
   "id": "242ac8d4",
   "metadata": {},
   "outputs": [
    {
     "data": {
      "text/plain": [
       "(91, 128, 128, 3)"
      ]
     },
     "execution_count": 9,
     "metadata": {},
     "output_type": "execute_result"
    }
   ],
   "source": [
    "tumor=np.array(tumor,dtype=np.float32)\n",
    "tumor.shape"
   ]
  },
  {
   "cell_type": "code",
   "execution_count": 10,
   "id": "7d981692",
   "metadata": {},
   "outputs": [],
   "source": [
    "class Dataset(object):\n",
    "    \"\"\"An abstract class representing a Dataset.\n",
    "\n",
    "    All other datasets should subclass it. All subclasses should override\n",
    "    ``__len__``, that provides the size of the dataset, and ``__getitem__``,\n",
    "    supporting integer indexing in range from 0 to len(self) exclusive.\n",
    "    \"\"\"\n",
    "\n",
    "    def __getitem__(self, index):\n",
    "        raise NotImplementedError\n",
    "\n",
    "    def __len__(self):\n",
    "        raise NotImplementedError\n",
    "\n",
    "    def __add__(self, other):\n",
    "        return ConcatDataset([self, other])"
   ]
  },
  {
   "cell_type": "code",
   "execution_count": 11,
   "id": "a2e73686",
   "metadata": {},
   "outputs": [],
   "source": [
    "import cv2\n",
    "import glob\n",
    "import numpy as np\n",
    "import torch\n",
    "from torch.utils.data import Dataset\n",
    "from torchvision import transforms\n",
    "\n",
    "class MRI(Dataset):\n",
    "    def __init__(self, transform=None):\n",
    "        self.transform = transform\n",
    "\n",
    "        tumor = []\n",
    "        healthy = []\n",
    "\n",
    "        # Load and preprocess images\n",
    "        for f in glob.iglob(\"C:/Users/ACER/Desktop/Final Year Projects/Vs_code/Jupyter notebook/Tumor data set/brain_tumor_dataset/no/*.jpg\"):\n",
    "            img = cv2.imread(f)\n",
    "            img = cv2.resize(img, (128, 128))\n",
    "            b, g, r = cv2.split(img)\n",
    "            img = cv2.merge([r, g, b])\n",
    "            img = img.transpose((2, 0, 1))  # Convert to (C, H, W)\n",
    "            tumor.append(img)\n",
    "\n",
    "        for f in glob.iglob(\"C:/Users/ACER/Desktop/Final Year Projects/Vs_code/Jupyter notebook/Tumor data set/brain_tumor_dataset/yes/*.jpg\"):\n",
    "            img = cv2.imread(f)\n",
    "            img = cv2.resize(img, (128, 128))\n",
    "            b, g, r = cv2.split(img)\n",
    "            img = cv2.merge([r, g, b])\n",
    "            img = img.transpose((2, 0, 1))  # Convert to (C, H, W)\n",
    "            healthy.append(img)\n",
    "\n",
    "        # Concatenate and create labels\n",
    "        tumor = np.array(tumor, dtype=np.float32)\n",
    "        healthy = np.array(healthy, dtype=np.float32)\n",
    "\n",
    "        tumor_label = np.ones(tumor.shape[0], dtype=np.float32)\n",
    "        healthy_label = np.zeros(healthy.shape[0], dtype=np.float32)\n",
    "\n",
    "        self.images = np.concatenate((tumor, healthy), axis=0)\n",
    "        self.labels = np.concatenate((tumor_label, healthy_label))\n",
    "\n",
    "        # Normalize images\n",
    "        self.images /= 255.0\n",
    "\n",
    "    def __len__(self):\n",
    "        return len(self.images)\n",
    "\n",
    "    def __getitem__(self, index):\n",
    "        image = torch.tensor(self.images[index], dtype=torch.float32)\n",
    "        label = torch.tensor(self.labels[index], dtype=torch.float32)\n",
    "\n",
    "        if self.transform:\n",
    "            image = self.transform(image)\n",
    "\n",
    "        sample = {'image': image, 'label': label}\n",
    "        return sample\n",
    "\n",
    "    def normalize(self):\n",
    "      self.images = self.images/255.0\n"
   ]
  },
  {
   "cell_type": "code",
   "execution_count": 12,
   "id": "1cc3d757",
   "metadata": {},
   "outputs": [],
   "source": [
    "import torch.nn as nn\n",
    "import torch.nn.functional as F\n",
    "\n",
    "class CNN(nn.Module):\n",
    "    def __init__(self):\n",
    "        super(CNN,self).__init__()\n",
    "        self.cnn_model = nn.Sequential(\n",
    "        nn.Conv2d(in_channels=3, out_channels=6, kernel_size=5),\n",
    "        nn.Tanh(),\n",
    "        nn.AvgPool2d(kernel_size=2, stride=5),\n",
    "        nn.Conv2d(in_channels=6, out_channels=16, kernel_size=5),\n",
    "        nn.Tanh(),\n",
    "        nn.AvgPool2d(kernel_size=2, stride=5))\n",
    "\n",
    "        self.fc_model = nn.Sequential(\n",
    "        nn.Linear(in_features=256, out_features=120),\n",
    "        nn.Tanh(),\n",
    "        nn.Linear(in_features=120, out_features=84),\n",
    "        nn.Tanh(),\n",
    "        nn.Linear(in_features=84, out_features=1))\n",
    "\n",
    "    def forward(self, x):\n",
    "        x = self.cnn_model(x)\n",
    "        x = x.view(x.size(0), -1)\n",
    "        x = self.fc_model(x)\n",
    "        x = F.sigmoid(x)\n",
    "\n",
    "        return x"
   ]
  },
  {
   "cell_type": "code",
   "execution_count": 13,
   "id": "e4dda898",
   "metadata": {},
   "outputs": [],
   "source": [
    "mri_dataset = MRI()\n",
    "mri_dataset.normalize()\n",
    "device = torch.device('cuda:0')\n",
    "model = CNN().to(device)\n"
   ]
  },
  {
   "cell_type": "code",
   "execution_count": 14,
   "id": "7e670ea0",
   "metadata": {},
   "outputs": [],
   "source": [
    "names={0:'Heathy', 1:'Tumor'}\n",
    "dataloader = DataLoader(mri_dataset, batch_size=32, shuffle=False)"
   ]
  },
  {
   "cell_type": "code",
   "execution_count": 15,
   "id": "800fa277",
   "metadata": {},
   "outputs": [],
   "source": [
    "model.eval()\n",
    "outputs = []\n",
    "y_true = []\n",
    "with torch.no_grad():\n",
    "    for D in dataloader:\n",
    "        image = D['image'].to(device)\n",
    "        label = D['label'].to(device)\n",
    "\n",
    "        y_hat = model(image)\n",
    "\n",
    "        outputs.append(y_hat.cpu().detach().numpy())\n",
    "        y_true.append(label.cpu().detach().numpy())\n"
   ]
  },
  {
   "cell_type": "code",
   "execution_count": 16,
   "id": "cac4a8e3",
   "metadata": {},
   "outputs": [],
   "source": [
    "outputs = np.concatenate( outputs, axis=0 ).squeeze()\n",
    "y_true = np.concatenate( y_true, axis=0 ).squeeze()"
   ]
  },
  {
   "cell_type": "code",
   "execution_count": 17,
   "id": "13760938",
   "metadata": {},
   "outputs": [],
   "source": [
    "def threshold(scores,threshold=0.50, minimum=0, maximum = 1.0):\n",
    "    x = np.array(list(scores))\n",
    "    x[x >= threshold] = maximum\n",
    "    x[x < threshold] = minimum\n",
    "    return x"
   ]
  },
  {
   "cell_type": "code",
   "execution_count": 18,
   "id": "aa1e6440",
   "metadata": {},
   "outputs": [
    {
     "data": {
      "text/plain": [
       "0.6285714285714286"
      ]
     },
     "execution_count": 18,
     "metadata": {},
     "output_type": "execute_result"
    }
   ],
   "source": [
    "accuracy_score(y_true, threshold(outputs))"
   ]
  },
  {
   "cell_type": "code",
   "execution_count": 19,
   "id": "78114f34",
   "metadata": {},
   "outputs": [
    {
     "data": {
      "text/plain": [
       "CNN(\n",
       "  (cnn_model): Sequential(\n",
       "    (0): Conv2d(3, 6, kernel_size=(5, 5), stride=(1, 1))\n",
       "    (1): Tanh()\n",
       "    (2): AvgPool2d(kernel_size=2, stride=5, padding=0)\n",
       "    (3): Conv2d(6, 16, kernel_size=(5, 5), stride=(1, 1))\n",
       "    (4): Tanh()\n",
       "    (5): AvgPool2d(kernel_size=2, stride=5, padding=0)\n",
       "  )\n",
       "  (fc_model): Sequential(\n",
       "    (0): Linear(in_features=256, out_features=120, bias=True)\n",
       "    (1): Tanh()\n",
       "    (2): Linear(in_features=120, out_features=84, bias=True)\n",
       "    (3): Tanh()\n",
       "    (4): Linear(in_features=84, out_features=1, bias=True)\n",
       "  )\n",
       ")"
      ]
     },
     "execution_count": 19,
     "metadata": {},
     "output_type": "execute_result"
    }
   ],
   "source": [
    "eta = 0.0001\n",
    "EPOCH = 400\n",
    "optimizer = torch.optim.Adam(model.parameters(), lr=eta)\n",
    "dataloader = DataLoader(mri_dataset, batch_size=32, shuffle=True)\n",
    "model.train()"
   ]
  },
  {
   "cell_type": "code",
   "execution_count": 20,
   "id": "e22934f6",
   "metadata": {},
   "outputs": [
    {
     "name": "stdout",
     "output_type": "stream",
     "text": [
      "Train Epoch: 10\tLoss: 0.659006\n",
      "Train Epoch: 20\tLoss: 0.662076\n",
      "Train Epoch: 30\tLoss: 0.660911\n",
      "Train Epoch: 40\tLoss: 0.661750\n",
      "Train Epoch: 50\tLoss: 0.657280\n",
      "Train Epoch: 60\tLoss: 0.661800\n",
      "Train Epoch: 70\tLoss: 0.665790\n",
      "Train Epoch: 80\tLoss: 0.658057\n",
      "Train Epoch: 90\tLoss: 0.660905\n",
      "Train Epoch: 100\tLoss: 0.662049\n",
      "Train Epoch: 110\tLoss: 0.657054\n",
      "Train Epoch: 120\tLoss: 0.657790\n",
      "Train Epoch: 130\tLoss: 0.657777\n",
      "Train Epoch: 140\tLoss: 0.653662\n",
      "Train Epoch: 150\tLoss: 0.652118\n",
      "Train Epoch: 160\tLoss: 0.651998\n",
      "Train Epoch: 170\tLoss: 0.633137\n",
      "Train Epoch: 180\tLoss: 0.608866\n",
      "Train Epoch: 190\tLoss: 0.569510\n",
      "Train Epoch: 200\tLoss: 0.559355\n",
      "Train Epoch: 210\tLoss: 0.546703\n",
      "Train Epoch: 220\tLoss: 0.546133\n",
      "Train Epoch: 230\tLoss: 0.539539\n",
      "Train Epoch: 240\tLoss: 0.536275\n",
      "Train Epoch: 250\tLoss: 0.526155\n",
      "Train Epoch: 260\tLoss: 0.523351\n",
      "Train Epoch: 270\tLoss: 0.518249\n",
      "Train Epoch: 280\tLoss: 0.520092\n",
      "Train Epoch: 290\tLoss: 0.523763\n",
      "Train Epoch: 300\tLoss: 0.516603\n",
      "Train Epoch: 310\tLoss: 0.516692\n",
      "Train Epoch: 320\tLoss: 0.507832\n",
      "Train Epoch: 330\tLoss: 0.507984\n",
      "Train Epoch: 340\tLoss: 0.499315\n",
      "Train Epoch: 350\tLoss: 0.502873\n",
      "Train Epoch: 360\tLoss: 0.506464\n",
      "Train Epoch: 370\tLoss: 0.506820\n",
      "Train Epoch: 380\tLoss: 0.494360\n",
      "Train Epoch: 390\tLoss: 0.495659\n",
      "Train Epoch: 400\tLoss: 0.508029\n"
     ]
    }
   ],
   "source": [
    "for epoch in range(1, EPOCH):\n",
    "    losses = []\n",
    "    for D in dataloader:\n",
    "        optimizer.zero_grad()\n",
    "        data = D['image'].to(device)\n",
    "        label = D['label'].to(device)\n",
    "        y_hat = model(data)\n",
    "        # define loss function\n",
    "        error = nn.BCELoss()\n",
    "        loss = torch.sum(error(y_hat.squeeze(), label))\n",
    "        loss.backward()\n",
    "        optimizer.step()\n",
    "        losses.append(loss.item())\n",
    "    if (epoch+1) % 10 == 0:\n",
    "        print('Train Epoch: {}\\tLoss: {:.6f}'.format(epoch+1, np.mean(losses)))"
   ]
  },
  {
   "cell_type": "code",
   "execution_count": 21,
   "id": "26caf26c",
   "metadata": {},
   "outputs": [],
   "source": [
    "model.eval()\n",
    "dataloader = DataLoader(mri_dataset, batch_size=32, shuffle=False)\n",
    "outputs=[]\n",
    "y_true = []\n",
    "with torch.no_grad():\n",
    "    for D in dataloader:\n",
    "        image =  D['image'].to(device)\n",
    "        label = D['label'].to(device)\n",
    "\n",
    "        y_hat = model(image)\n",
    "\n",
    "        outputs.append(y_hat.cpu().detach().numpy())\n",
    "        y_true.append(label.cpu().detach().numpy())\n",
    "\n",
    "outputs = np.concatenate( outputs, axis=0 )\n",
    "y_true = np.concatenate( y_true, axis=0 )"
   ]
  },
  {
   "cell_type": "code",
   "execution_count": 22,
   "id": "0c4baf02",
   "metadata": {},
   "outputs": [
    {
     "data": {
      "text/plain": [
       "0.763265306122449"
      ]
     },
     "execution_count": 22,
     "metadata": {},
     "output_type": "execute_result"
    }
   ],
   "source": [
    "accuracy_score(y_true, threshold(outputs))"
   ]
  },
  {
   "cell_type": "code",
   "execution_count": null,
   "id": "6e216f52",
   "metadata": {},
   "outputs": [],
   "source": []
  }
 ],
 "metadata": {
  "kernelspec": {
   "display_name": "Python 3 (ipykernel)",
   "language": "python",
   "name": "python3"
  },
  "language_info": {
   "codemirror_mode": {
    "name": "ipython",
    "version": 3
   },
   "file_extension": ".py",
   "mimetype": "text/x-python",
   "name": "python",
   "nbconvert_exporter": "python",
   "pygments_lexer": "ipython3",
   "version": "3.12.2"
  }
 },
 "nbformat": 4,
 "nbformat_minor": 5
}
